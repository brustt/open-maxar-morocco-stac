{
 "cells": [
  {
   "cell_type": "code",
   "execution_count": 2,
   "id": "43f4713d-c7bd-457c-8dee-2d9395f4d7c9",
   "metadata": {},
   "outputs": [],
   "source": [
    "from pystac_client import Client\n",
    "from pystac import Catalog\n",
    "import pystac\n",
    "import pandas as pd\n",
    "import matplotlib.pyplot as plt\n",
    "import leafmap.foliumap as leafmap\n",
    "from shapely import Polygon\n",
    "from shapely.geometry import box\n",
    "import geopandas as gpd\n",
    "import numpy as np\n",
    "from pydantic import ValidationError, BaseModel\n",
    "\n",
    "from typing import Dict, List, Optional, Union, Any\n",
    "import concurrent.futures\n",
    "import re\n",
    "import socket\n",
    "from tqdm import tqdm\n",
    "from urllib.error import URLError\n",
    "from urllib.request import urlopen\n",
    "from datetime import datetime\n",
    "import pickle\n",
    "import requests\n",
    "from requests import Session\n",
    "from threading import local\n",
    "import pprint as pp\n",
    "import os\n",
    "import logging\n",
    "\n",
    "logging.basicConfig()\n",
    "logger = logging.getLogger(__name__)\n",
    "logger.setLevel(logging.INFO)"
   ]
  },
  {
   "cell_type": "markdown",
   "id": "30a6abea-f048-4ca6-915a-c2fcca5a7134",
   "metadata": {},
   "source": [
    "### Objectif "
   ]
  },
  {
   "cell_type": "markdown",
   "id": "912f504e-d309-42c2-810d-6403945a55b7",
   "metadata": {},
   "source": [
    "* Reproduire le dataframe `Morocco-Earthquake-Sept-2023.tsv` de manière plus efficient : les objets STAC sont tres lent à manipuler/naviguer; on va donc au plus extraire les éléments en json puis implémenter les requêtes en multithreading\n",
    "* Plusieurs produits sont disponibles : pan, rgb, multispectral. On permet le choix du produit désiré (un à la fois).\n",
    "* Implementer Downloader pour les tiles en fonction de la zone, de la date (non implémenté)\n",
    "* Voir remarques en fin de notebook pour reflexions futures et limites"
   ]
  },
  {
   "cell_type": "markdown",
   "id": "07f5c32d-d1c1-4038-aeae-3c023ae993c1",
   "metadata": {},
   "source": [
    "### Data path"
   ]
  },
  {
   "cell_type": "code",
   "execution_count": 3,
   "id": "16c2a336-2959-47b8-b904-31bceabd4c3a",
   "metadata": {},
   "outputs": [],
   "source": [
    "# please create - change output directory before run\n",
    "out_dir_path = \"../Data/processed\""
   ]
  },
  {
   "cell_type": "markdown",
   "id": "59fbcaf1-7989-4adf-9426-610623a80dcb",
   "metadata": {},
   "source": [
    "### Utils functions"
   ]
  },
  {
   "cell_type": "code",
   "execution_count": 3,
   "id": "6bbea6fe-16ec-4b9c-89c0-0c65316349ea",
   "metadata": {},
   "outputs": [],
   "source": [
    "def make_path(file_name, dir_path=None):\n",
    "    if dir_path is None:\n",
    "        dir_path = out_dir_path\n",
    "    return os.path.join(dir_path, file_name)"
   ]
  },
  {
   "cell_type": "code",
   "execution_count": 4,
   "id": "d8bc4514-fc09-4733-82ff-e9a0e5985c9f",
   "metadata": {},
   "outputs": [],
   "source": [
    "def save_pickle(data, output_path):\n",
    "    with open(output_path, 'wb') as f:\n",
    "        pickle.dump(data, f)\n",
    "        \n",
    "def load_pickle(path):\n",
    "    with open(path, 'rb') as f:\n",
    "        data = pickle.load(f)\n",
    "    return data"
   ]
  },
  {
   "cell_type": "markdown",
   "id": "b9756d35-5960-47e7-8a2d-ad14b1a01e64",
   "metadata": {},
   "source": [
    "#### Stac items processing"
   ]
  },
  {
   "cell_type": "code",
   "execution_count": 5,
   "id": "305052aa-6ee4-45e6-8f3f-d2172eb0e469",
   "metadata": {},
   "outputs": [],
   "source": [
    "class TypeAssetError(BaseException):\n",
    "    \"\"\"Error on img asset selection\"\"\"\n",
    "\n",
    "class STACOpenerError(Exception):\n",
    "    \"\"\"An error indicating that a STAC file could not be opened\"\"\"\n",
    "    \n",
    "    \n",
    "_root_url_id_ = \"ard/29/\" # change for other collection maxar - see STAC catalog\n",
    "    \n",
    "def id_to_href(hrefs, collection):\n",
    "    \"\"\"\n",
    "    build dictionnary to map id product - threads with .submits() doesn't keep order\n",
    "    hope it's consistent with stac standards\n",
    "    id_item : quadkey/date/catalog_id\n",
    "    \"\"\"\n",
    "\n",
    "    hrefs_mapping = {}\n",
    "    for h in hrefs:\n",
    "        id_item = h.split(\"/\".join([collection, _root_url_id_]))[1:][0][:-5]\n",
    "        hrefs_mapping[id_item] = '/'.join(h.split(\"/\")[:-1])\n",
    "    return hrefs_mapping\n",
    "\n",
    "def isotime(date_string):\n",
    "    return date_string.replace(\"T\", \" \").replace(\"Z\", \"\").rstrip()\n",
    "    \n",
    "def build_link_product(item, hrefs_map):\n",
    "    \"\"\"faster than use STAC Item \n",
    "    not very readable\n",
    "    \"\"\"\n",
    "    \n",
    "    tmp_id = (\n",
    "        \"/\".join([\n",
    "            item[\"quadkey\"],\n",
    "            datetime.strftime(\n",
    "                datetime.strptime(isotime(item[\"datetime\"]), \"%Y-%m-%d %H:%M:%S\")\n",
    "                , \"%Y-%m-%d\"),\n",
    "            item[\"catalog_id\"]\n",
    "        ])\n",
    "    )\n",
    "    item[\"href\"] = '/'.join([hrefs_map[tmp_id], item['href'].split('/')[-1]])\n",
    "    return item\n",
    "\n",
    "def extract_assets(content, type_item=\"visual\"):\n",
    "    \"\"\"\n",
    "    Parse json - selection of interesting properties\n",
    "    type_item :  'data-mask', 'ms_analytic', 'pan_analytic', 'visual'\n",
    "    \"\"\"\n",
    "    assets_selection = {\n",
    "        \"id\":\"id\",\n",
    "        \"assets\": {type_item : [\"title\", \"type\", \"href\", ]},\n",
    "        \"properties\" : [\"datetime\", \"platform\", \"gsd\", \"catalog_id\", \"utm_zone\", \"quadkey\", \"grid:code\", \"proj:epsg\", \"proj:bbox\", \"proj:shape\"] \\\n",
    "            + [_ for _ in content[\"properties\"] if _.startswith(\"view\")]\\\n",
    "            + [_ for _ in content[\"properties\"] if _.startswith(\"tile\")]\\\n",
    "\n",
    "    }\n",
    "    \n",
    "    def process_key(k):\n",
    "        return k.replace(':', '_')\n",
    "\n",
    "    new_content = {}\n",
    "    for group, asset_keys in assets_selection.items(): \n",
    "        if isinstance(asset_keys, dict):\n",
    "            (sub_group, sub_asset_keys), = asset_keys.items()\n",
    "            try:\n",
    "                new_content = new_content | {k:v for k,v in content[group][sub_group].items() if k in sub_asset_keys}\n",
    "            except KeyError as e:\n",
    "                logger.error(f\"Authorized types : {content[group].keys()}\")\n",
    "                raise TypeAssetError\n",
    "\n",
    "    \n",
    "        elif isinstance(asset_keys, str):\n",
    "            new_content = new_content | {asset_keys: content[group]}\n",
    "        else:\n",
    "            # list\n",
    "            #asset_keys = [process_key(_) for _ in asset_keys]\n",
    "            new_content = new_content | {k:v for k,v in content[group].items() if k in asset_keys}\n",
    "    # np array to prevent error of index out of bounds\n",
    "    geom = np.array(content[\"properties\"][\"proj:geometry\"][\"coordinates\"]).squeeze().tolist()\n",
    "    new_content = new_content | {\"proj_geometry\":geom}\n",
    "    new_content = {process_key(k):v for k,v in new_content.items()}\n",
    "    \n",
    "    return new_content"
   ]
  },
  {
   "cell_type": "markdown",
   "id": "a9ef1093-5efe-4890-9d37-f4194b18f429",
   "metadata": {},
   "source": [
    "#### HTTP Requests"
   ]
  },
  {
   "cell_type": "code",
   "execution_count": 6,
   "id": "5c4ce6a7-9bbd-4f66-ac6a-da9b46e7d851",
   "metadata": {},
   "outputs": [],
   "source": [
    "thread_local = local()\n",
    "\n",
    "def get_session() -> Session:\n",
    "    if not hasattr(thread_local,'session'):\n",
    "        thread_local.session = requests.Session() # Create a new Session if not exists\n",
    "    return thread_local.session\n",
    "\n",
    "def read_http_stac_file(url, timeout=None):\n",
    "    \"\"\"requests with session object\"\"\"\n",
    "    try:\n",
    "        session = get_session()\n",
    "        # cannot set timeout to request session\n",
    "        with session.get(url) as response:\n",
    "            return response.json()\n",
    "        \n",
    "    except URLError as e:\n",
    "        if isinstance(e.reason, socket.timeout):\n",
    "            logger.error(\"%s: %s\", url, e)\n",
    "            raise socket.timeout(\n",
    "                f\"{url} with a timeout of {self.timeout} seconds\"\n",
    "            ) from None\n",
    "        else:\n",
    "            logger.debug(\"read_http_remote_json is not the right STAC opener\")\n",
    "            raise STACOpenerError"
   ]
  },
  {
   "cell_type": "markdown",
   "id": "beb9f07f-bd37-4cbd-9a96-00faef274bf1",
   "metadata": {},
   "source": [
    "### Save tmp files (optional)"
   ]
  },
  {
   "cell_type": "code",
   "execution_count": null,
   "id": "85521f72-edfc-4c88-8c0c-746288da2834",
   "metadata": {},
   "outputs": [],
   "source": [
    "%%time\n",
    "root_catalog = Client.open('https://maxar-opendata.s3.amazonaws.com/events/catalog.json')\n",
    "cat = root_catalog.get_child('Morocco-Earthquake-Sept-2023')\n",
    "hrefs = []\n",
    "for parent_catalog, _, _ in cat.walk():\n",
    "    hrefs += [\n",
    "        link.get_absolute_href() for link in parent_catalog.get_item_links()\n",
    "    ]"
   ]
  },
  {
   "cell_type": "code",
   "execution_count": null,
   "id": "29338432-be40-4633-97ad-5a5168f12b0d",
   "metadata": {},
   "outputs": [],
   "source": [
    "# stac items href (.json)\n",
    "#save_pickle(hrefs, make_path(\"maxar_href_stac_items.pkl\"))"
   ]
  },
  {
   "cell_type": "code",
   "execution_count": null,
   "id": "bcf0865d-7a58-4f77-8809-ea897f961135",
   "metadata": {},
   "outputs": [],
   "source": [
    "%%time\n",
    "N_EX=None\n",
    "N=100\n",
    "timeout=100\n",
    "items = []\n",
    "if N_EX is None:\n",
    "    N_EX = len(hrefs)\n",
    "    \n",
    "def download_threaded(hrefs, max_connections, timeout=None):\n",
    "    with tqdm(total=len(hrefs[:N_EX])) as pbar:\n",
    "        with concurrent.futures.ThreadPoolExecutor(max_workers=max_connections) as executor:\n",
    "            future_to_href = [executor.submit(read_http_stac_file, href, timeout) for href in hrefs[:N_EX]]\n",
    "            for future in concurrent.futures.as_completed(future_to_href):\n",
    "                pbar.update(1)\n",
    "                yield future.result()\n",
    "                \n",
    "for res in download_threaded(hrefs, max_connections=N, timeout=timeout):\n",
    "    items.append(res)"
   ]
  },
  {
   "cell_type": "code",
   "execution_count": null,
   "id": "2588b5e3-1919-4d86-a4d0-dbf01fcd1a0f",
   "metadata": {},
   "outputs": [],
   "source": [
    "# stac items raw (json)\n",
    "#save_pickle(items, make_path(\"maxar_stac_items.pkl\"))"
   ]
  },
  {
   "cell_type": "markdown",
   "id": "fdbca0d0-1db8-438d-87bd-d02f51b05433",
   "metadata": {},
   "source": [
    "### Data Model validation"
   ]
  },
  {
   "cell_type": "code",
   "execution_count": 11,
   "id": "caf3f708-a37f-49ce-938c-10f80c97ef73",
   "metadata": {},
   "outputs": [],
   "source": [
    "# implemented but not tested\n",
    "class MaxarOpenData(BaseModel):\n",
    "    id: str\n",
    "    type: str\n",
    "    title: str\n",
    "    href: str\n",
    "    proj_bbox: list[float]\n",
    "    shape: list[int]\n",
    "    platform: str\n",
    "    gsd: float\n",
    "    catalog_id: str\n",
    "    utm_zone: int\n",
    "    quadkey: str\n",
    "    view_off_nadir: float\n",
    "    view_azimuth: float\n",
    "    view_incidence_angle: float\n",
    "    view_sun_azimuth: float\n",
    "    view_sun_elevation: float\n",
    "    proj_epsg: int\n",
    "    proj_geometry: list\n",
    "    grid_code: str\n",
    "    tile_data_area: float\n",
    "    tile_clouds_area: float\n",
    "    tile_clouds_percent: float"
   ]
  },
  {
   "cell_type": "markdown",
   "id": "c893def9-eb37-4eb3-88ae-3f439fecb6f9",
   "metadata": {},
   "source": [
    "### Stac reader items"
   ]
  },
  {
   "cell_type": "code",
   "execution_count": 119,
   "id": "2736736f-5468-4a8b-818a-11a4c64043f5",
   "metadata": {},
   "outputs": [],
   "source": [
    "class StaticStacReader:\n",
    "        \n",
    "    def __init__(self, \n",
    "                 model_validation: BaseModel, \n",
    "                 url_catalog: str, \n",
    "                 collection: str, \n",
    "                 local_items:Dict[str, str]=None,\n",
    "                 max_connections: int=20, \n",
    "                 timeout: int=20):\n",
    "        \n",
    "        self.model_validation = model_validation\n",
    "        self.timeout = timeout\n",
    "        self.max_connections = max_connections\n",
    "        self.url_catalog = url_catalog\n",
    "        self.collection = collection\n",
    "        self.catalog = None\n",
    "        self.local_items = local_items\n",
    "\n",
    "    def open_catalog(self, url_catalog: str, collection: str) -> pystac.Catalog:\n",
    "        root_catalog = Client.open(url_catalog)\n",
    "        return root_catalog.get_child(collection)\n",
    "        \n",
    "    def read(self, type_item: str, validate:bool=False) -> gpd.GeoDataFrame:\n",
    "        \"\"\"\n",
    "        add validation json retun with pydantic (currently implemented but not tested)\n",
    "        \"\"\"\n",
    "        items = self.get_items(type_item)\n",
    "        if validate:\n",
    "            self.validate(items)\n",
    "        \n",
    "        geom = [Polygon(_[\"proj_geometry\"]) for _ in items]\n",
    "        gdf = gpd.GeoDataFrame(items, crs=int(items[0][\"proj_epsg\"]), geometry=geom)\n",
    "        \n",
    "        return gdf\n",
    "    \n",
    "    def validate(self, items: List[Dict]) -> None:\n",
    "        # to check\n",
    "        for item in items:\n",
    "            try:\n",
    "                self.model_validation(**item)  \n",
    "            except ValidationError as e:\n",
    "                print(e.errors())\n",
    "                \n",
    "    def get_items(self, type_item: str) -> List[Dict[Any, Any]]:\n",
    "        \n",
    "        items: List[Dict[Any, Any]] = []\n",
    "        logger.info(\"Build absolute path for stac items\")\n",
    "            \n",
    "        hrefs = self.get_hrefs()\n",
    "        items = self._get_items(hrefs)\n",
    "        items = self.process_items(items, hrefs, type_item)\n",
    "        \n",
    "        return items\n",
    "    \n",
    "    def get_hrefs(self) -> List[str]:\n",
    "        hrefs = []\n",
    "        if self.local_items is None:\n",
    "            self.catalog = self.open_catalog(self.url_catalog, self.collection) \n",
    "            # build absolute path for file stac items\n",
    "            for parent_catalog, _, _ in self.catalog.walk():\n",
    "                hrefs += [\n",
    "                    link.get_absolute_href() for link in parent_catalog.get_item_links()\n",
    "                ]\n",
    "        else:\n",
    "            hrefs = load_pickle(self.local_items[\"hrefs\"])\n",
    "        return hrefs\n",
    "        \n",
    "    \n",
    "    def process_items(self, items: List[Dict[Any, Any]], hrefs: List[str], type_item: str) -> List[Dict[Any, Any]]:\n",
    "        \"\"\"items: Generator\"\"\"\n",
    "        items_clean = []\n",
    "        hrefs_mapping = id_to_href(hrefs, self.collection)\n",
    "        \n",
    "        for item in items:\n",
    "            n_item = extract_assets(item, type_item=type_item)\n",
    "            n_item = build_link_product(n_item, hrefs_mapping)\n",
    "            items_clean.append(n_item)\n",
    "            \n",
    "        return items_clean\n",
    "    \n",
    "    def _get_items(self, hrefs: List[str]) -> Any: # add Generator type\n",
    "        if self.local_items is not None:\n",
    "            # return generator\n",
    "            logger.info(\"Load stac items from local file..\")\n",
    "\n",
    "            return (x for x in load_pickle(self.local_items[\"items\"]))\n",
    "        else:\n",
    "            logger.info(\"Start download stac items..\")\n",
    "            return self.download_items_threaded(hrefs)\n",
    "        \n",
    "    def download_items_threaded(self, hrefs: List[str]) -> Any: # add Generator type\n",
    "  \n",
    "        with tqdm(total=len(hrefs)) as pbar:\n",
    "            with concurrent.futures.ThreadPoolExecutor(max_workers=self.max_connections) as executor:\n",
    "                future_to_href = [executor.submit(read_http_stac_file, href, self.timeout) for href in hrefs]\n",
    "                for future in concurrent.futures.as_completed(future_to_href):\n",
    "                    pbar.update(1)\n",
    "                    yield future.result()"
   ]
  },
  {
   "cell_type": "markdown",
   "id": "f64da1f3-b2e3-4ff3-a4d2-21ee9a3e042f",
   "metadata": {},
   "source": [
    "### Runner"
   ]
  },
  {
   "cell_type": "markdown",
   "id": "223d5d54-1c8e-4219-bb5b-aacf34c4efa6",
   "metadata": {},
   "source": [
    "local items are tmp files (see above) but if not provided; the reader will download them (not save locally).\n",
    "\n",
    "Important to put high timeout to avoid timeout issue with remote server.\n",
    "\n",
    "From scratch : ~ 1min40 vs 45min with leafmap."
   ]
  },
  {
   "cell_type": "code",
   "execution_count": 77,
   "id": "e3034e3e-be15-4c71-a8e8-4912abb7bffb",
   "metadata": {},
   "outputs": [],
   "source": [
    "reader = StaticStacReader(model_validation=MaxarOpenData, \n",
    "                 url_catalog='https://maxar-opendata.s3.amazonaws.com/events/catalog.json', \n",
    "                 collection='Morocco-Earthquake-Sept-2023', \n",
    "                 local_items=None,\n",
    "                 max_connections=100, \n",
    "                 timeout=30)"
   ]
  },
  {
   "cell_type": "markdown",
   "id": "c981da67-dd3e-470d-9bad-60ce65feb270",
   "metadata": {},
   "source": [
    "With local items (2s) :\n",
    "\n",
    "```python\n",
    "reader = StaticStacReader(model_validation=MaxarOpenData, \n",
    "                 url_catalog='https://maxar-opendata.s3.amazonaws.com/events/catalog.json', \n",
    "                 collection='Morocco-Earthquake-Sept-2023', \n",
    "                 local_items={\n",
    "                     \"hrefs\": make_path(\"maxar_href_stac_items.pkl\"),\n",
    "                     \"items\":make_path(\"maxar_stac_items.pkl\")\n",
    "                 },\n",
    "                 max_connections=100, \n",
    "                 timeout=30)\n",
    "```"
   ]
  },
  {
   "cell_type": "code",
   "execution_count": 121,
   "id": "56a78506-0f56-4a2c-bb4e-cd36d65bef3d",
   "metadata": {},
   "outputs": [
    {
     "name": "stderr",
     "output_type": "stream",
     "text": [
      "INFO:__main__:Build absolute path for stac items\n",
      "INFO:__main__:Start download stac items..\n",
      "100%|██████████████████████████████████████████████| 8724/8724 [00:24<00:00, 358.34it/s]\n"
     ]
    },
    {
     "name": "stdout",
     "output_type": "stream",
     "text": [
      "CPU times: user 21 s, sys: 2.93 s, total: 23.9 s\n",
      "Wall time: 1min 40s\n"
     ]
    }
   ],
   "source": [
    "%%time\n",
    "gdf = reader.read(type_item=\"visual\")"
   ]
  },
  {
   "cell_type": "code",
   "execution_count": 122,
   "id": "d2844956-9e9c-4d46-b92c-11e7a3272f2b",
   "metadata": {
    "tags": []
   },
   "outputs": [
    {
     "data": {
      "text/html": [
       "<div>\n",
       "<style scoped>\n",
       "    .dataframe tbody tr th:only-of-type {\n",
       "        vertical-align: middle;\n",
       "    }\n",
       "\n",
       "    .dataframe tbody tr th {\n",
       "        vertical-align: top;\n",
       "    }\n",
       "\n",
       "    .dataframe thead th {\n",
       "        text-align: right;\n",
       "    }\n",
       "</style>\n",
       "<table border=\"1\" class=\"dataframe\">\n",
       "  <thead>\n",
       "    <tr style=\"text-align: right;\">\n",
       "      <th></th>\n",
       "      <th>id</th>\n",
       "      <th>type</th>\n",
       "      <th>title</th>\n",
       "      <th>href</th>\n",
       "      <th>datetime</th>\n",
       "      <th>platform</th>\n",
       "      <th>gsd</th>\n",
       "      <th>catalog_id</th>\n",
       "      <th>utm_zone</th>\n",
       "      <th>quadkey</th>\n",
       "      <th>...</th>\n",
       "      <th>view_sun_azimuth</th>\n",
       "      <th>view_sun_elevation</th>\n",
       "      <th>proj_epsg</th>\n",
       "      <th>grid_code</th>\n",
       "      <th>proj_bbox</th>\n",
       "      <th>tile_data_area</th>\n",
       "      <th>tile_clouds_area</th>\n",
       "      <th>tile_clouds_percent</th>\n",
       "      <th>proj_geometry</th>\n",
       "      <th>geometry</th>\n",
       "    </tr>\n",
       "  </thead>\n",
       "  <tbody>\n",
       "    <tr>\n",
       "      <th>0</th>\n",
       "      <td>29/031313133122/04eddade-a2dc-4d16-8710-fb764d...</td>\n",
       "      <td>image/tiff; application=geotiff; profile=cloud...</td>\n",
       "      <td>Visual Image</td>\n",
       "      <td>https://maxar-opendata.s3.amazonaws.com/events...</td>\n",
       "      <td>2018-08-31 11:25:53Z</td>\n",
       "      <td>WV04</td>\n",
       "      <td>0.37</td>\n",
       "      <td>04eddade-a2dc-4d16-8710-fb764d318766-inv</td>\n",
       "      <td>29</td>\n",
       "      <td>031313133122</td>\n",
       "      <td>...</td>\n",
       "      <td>139.1</td>\n",
       "      <td>62.6</td>\n",
       "      <td>32629</td>\n",
       "      <td>MXRA-Z29-031313133122</td>\n",
       "      <td>[483029.47998046875, 3379843.75, 485156.25, 33...</td>\n",
       "      <td>10.7</td>\n",
       "      <td>0.0</td>\n",
       "      <td>0</td>\n",
       "      <td>[[483208.0078125, 3385087.5854492188], [483840...</td>\n",
       "      <td>POLYGON ((483208.008 3385087.585, 483840.637 3...</td>\n",
       "    </tr>\n",
       "    <tr>\n",
       "      <th>1</th>\n",
       "      <td>29/031313133132/04eddade-a2dc-4d16-8710-fb764d...</td>\n",
       "      <td>image/tiff; application=geotiff; profile=cloud...</td>\n",
       "      <td>Visual Image</td>\n",
       "      <td>https://maxar-opendata.s3.amazonaws.com/events...</td>\n",
       "      <td>2018-08-31 11:25:53Z</td>\n",
       "      <td>WV04</td>\n",
       "      <td>0.37</td>\n",
       "      <td>04eddade-a2dc-4d16-8710-fb764d318766-inv</td>\n",
       "      <td>29</td>\n",
       "      <td>031313133132</td>\n",
       "      <td>...</td>\n",
       "      <td>139.1</td>\n",
       "      <td>62.6</td>\n",
       "      <td>32629</td>\n",
       "      <td>MXRA-Z29-031313133132</td>\n",
       "      <td>[489843.75, 3379843.75, 495156.25, 3384461.975...</td>\n",
       "      <td>23.0</td>\n",
       "      <td>0.0</td>\n",
       "      <td>0</td>\n",
       "      <td>[[489843.75, 3384461.9750976562], [489843.75, ...</td>\n",
       "      <td>POLYGON ((489843.750 3384461.975, 489843.750 3...</td>\n",
       "    </tr>\n",
       "    <tr>\n",
       "      <th>2</th>\n",
       "      <td>29/031313133120/04eddade-a2dc-4d16-8710-fb764d...</td>\n",
       "      <td>image/tiff; application=geotiff; profile=cloud...</td>\n",
       "      <td>Visual Image</td>\n",
       "      <td>https://maxar-opendata.s3.amazonaws.com/events...</td>\n",
       "      <td>2018-08-31 11:25:53Z</td>\n",
       "      <td>WV04</td>\n",
       "      <td>0.37</td>\n",
       "      <td>04eddade-a2dc-4d16-8710-fb764d318766-inv</td>\n",
       "      <td>29</td>\n",
       "      <td>031313133120</td>\n",
       "      <td>...</td>\n",
       "      <td>139.1</td>\n",
       "      <td>62.6</td>\n",
       "      <td>32629</td>\n",
       "      <td>MXRA-Z29-031313133120</td>\n",
       "      <td>[483190.3076171875, 3384843.75, 485156.25, 338...</td>\n",
       "      <td>0.3</td>\n",
       "      <td>0.0</td>\n",
       "      <td>0</td>\n",
       "      <td>[[483208.0078125, 3385087.5854492188], [483266...</td>\n",
       "      <td>POLYGON ((483208.008 3385087.585, 483266.296 3...</td>\n",
       "    </tr>\n",
       "    <tr>\n",
       "      <th>3</th>\n",
       "      <td>29/031313133303/04eddade-a2dc-4d16-8710-fb764d...</td>\n",
       "      <td>image/tiff; application=geotiff; profile=cloud...</td>\n",
       "      <td>Visual Image</td>\n",
       "      <td>https://maxar-opendata.s3.amazonaws.com/events...</td>\n",
       "      <td>2018-08-31 11:25:52Z</td>\n",
       "      <td>WV04</td>\n",
       "      <td>0.37</td>\n",
       "      <td>04eddade-a2dc-4d16-8710-fb764d318766-inv</td>\n",
       "      <td>29</td>\n",
       "      <td>031313133303</td>\n",
       "      <td>...</td>\n",
       "      <td>139.1</td>\n",
       "      <td>62.7</td>\n",
       "      <td>32629</td>\n",
       "      <td>MXRA-Z29-031313133303</td>\n",
       "      <td>[484843.75, 3369843.75, 490156.25, 3375156.25]</td>\n",
       "      <td>28.2</td>\n",
       "      <td>0.0</td>\n",
       "      <td>0</td>\n",
       "      <td>[[484843.75, 3375156.25], [484843.75, 3369843....</td>\n",
       "      <td>POLYGON ((484843.750 3375156.250, 484843.750 3...</td>\n",
       "    </tr>\n",
       "    <tr>\n",
       "      <th>4</th>\n",
       "      <td>29/031313133301/04eddade-a2dc-4d16-8710-fb764d...</td>\n",
       "      <td>image/tiff; application=geotiff; profile=cloud...</td>\n",
       "      <td>Visual Image</td>\n",
       "      <td>https://maxar-opendata.s3.amazonaws.com/events...</td>\n",
       "      <td>2018-08-31 11:25:52Z</td>\n",
       "      <td>WV04</td>\n",
       "      <td>0.37</td>\n",
       "      <td>04eddade-a2dc-4d16-8710-fb764d318766-inv</td>\n",
       "      <td>29</td>\n",
       "      <td>031313133301</td>\n",
       "      <td>...</td>\n",
       "      <td>139.1</td>\n",
       "      <td>62.6</td>\n",
       "      <td>32629</td>\n",
       "      <td>MXRA-Z29-031313133301</td>\n",
       "      <td>[484843.75, 3374843.75, 490156.25, 3380156.25]</td>\n",
       "      <td>28.2</td>\n",
       "      <td>0.0</td>\n",
       "      <td>0</td>\n",
       "      <td>[[484843.75, 3380156.25], [484843.75, 3374843....</td>\n",
       "      <td>POLYGON ((484843.750 3380156.250, 484843.750 3...</td>\n",
       "    </tr>\n",
       "  </tbody>\n",
       "</table>\n",
       "<p>5 rows × 23 columns</p>\n",
       "</div>"
      ],
      "text/plain": [
       "                                                  id  \\\n",
       "0  29/031313133122/04eddade-a2dc-4d16-8710-fb764d...   \n",
       "1  29/031313133132/04eddade-a2dc-4d16-8710-fb764d...   \n",
       "2  29/031313133120/04eddade-a2dc-4d16-8710-fb764d...   \n",
       "3  29/031313133303/04eddade-a2dc-4d16-8710-fb764d...   \n",
       "4  29/031313133301/04eddade-a2dc-4d16-8710-fb764d...   \n",
       "\n",
       "                                                type         title  \\\n",
       "0  image/tiff; application=geotiff; profile=cloud...  Visual Image   \n",
       "1  image/tiff; application=geotiff; profile=cloud...  Visual Image   \n",
       "2  image/tiff; application=geotiff; profile=cloud...  Visual Image   \n",
       "3  image/tiff; application=geotiff; profile=cloud...  Visual Image   \n",
       "4  image/tiff; application=geotiff; profile=cloud...  Visual Image   \n",
       "\n",
       "                                                href              datetime  \\\n",
       "0  https://maxar-opendata.s3.amazonaws.com/events...  2018-08-31 11:25:53Z   \n",
       "1  https://maxar-opendata.s3.amazonaws.com/events...  2018-08-31 11:25:53Z   \n",
       "2  https://maxar-opendata.s3.amazonaws.com/events...  2018-08-31 11:25:53Z   \n",
       "3  https://maxar-opendata.s3.amazonaws.com/events...  2018-08-31 11:25:52Z   \n",
       "4  https://maxar-opendata.s3.amazonaws.com/events...  2018-08-31 11:25:52Z   \n",
       "\n",
       "  platform   gsd                                catalog_id  utm_zone  \\\n",
       "0     WV04  0.37  04eddade-a2dc-4d16-8710-fb764d318766-inv        29   \n",
       "1     WV04  0.37  04eddade-a2dc-4d16-8710-fb764d318766-inv        29   \n",
       "2     WV04  0.37  04eddade-a2dc-4d16-8710-fb764d318766-inv        29   \n",
       "3     WV04  0.37  04eddade-a2dc-4d16-8710-fb764d318766-inv        29   \n",
       "4     WV04  0.37  04eddade-a2dc-4d16-8710-fb764d318766-inv        29   \n",
       "\n",
       "        quadkey  ...  view_sun_azimuth  view_sun_elevation  proj_epsg  \\\n",
       "0  031313133122  ...             139.1                62.6      32629   \n",
       "1  031313133132  ...             139.1                62.6      32629   \n",
       "2  031313133120  ...             139.1                62.6      32629   \n",
       "3  031313133303  ...             139.1                62.7      32629   \n",
       "4  031313133301  ...             139.1                62.6      32629   \n",
       "\n",
       "               grid_code                                          proj_bbox  \\\n",
       "0  MXRA-Z29-031313133122  [483029.47998046875, 3379843.75, 485156.25, 33...   \n",
       "1  MXRA-Z29-031313133132  [489843.75, 3379843.75, 495156.25, 3384461.975...   \n",
       "2  MXRA-Z29-031313133120  [483190.3076171875, 3384843.75, 485156.25, 338...   \n",
       "3  MXRA-Z29-031313133303     [484843.75, 3369843.75, 490156.25, 3375156.25]   \n",
       "4  MXRA-Z29-031313133301     [484843.75, 3374843.75, 490156.25, 3380156.25]   \n",
       "\n",
       "   tile_data_area tile_clouds_area tile_clouds_percent  \\\n",
       "0            10.7              0.0                   0   \n",
       "1            23.0              0.0                   0   \n",
       "2             0.3              0.0                   0   \n",
       "3            28.2              0.0                   0   \n",
       "4            28.2              0.0                   0   \n",
       "\n",
       "                                       proj_geometry  \\\n",
       "0  [[483208.0078125, 3385087.5854492188], [483840...   \n",
       "1  [[489843.75, 3384461.9750976562], [489843.75, ...   \n",
       "2  [[483208.0078125, 3385087.5854492188], [483266...   \n",
       "3  [[484843.75, 3375156.25], [484843.75, 3369843....   \n",
       "4  [[484843.75, 3380156.25], [484843.75, 3374843....   \n",
       "\n",
       "                                            geometry  \n",
       "0  POLYGON ((483208.008 3385087.585, 483840.637 3...  \n",
       "1  POLYGON ((489843.750 3384461.975, 489843.750 3...  \n",
       "2  POLYGON ((483208.008 3385087.585, 483266.296 3...  \n",
       "3  POLYGON ((484843.750 3375156.250, 484843.750 3...  \n",
       "4  POLYGON ((484843.750 3380156.250, 484843.750 3...  \n",
       "\n",
       "[5 rows x 23 columns]"
      ]
     },
     "execution_count": 122,
     "metadata": {},
     "output_type": "execute_result"
    }
   ],
   "source": [
    "# change to shp\n",
    "gdf.head()"
   ]
  },
  {
   "cell_type": "code",
   "execution_count": 88,
   "id": "6992e5d2-758b-4fc5-b76a-98f37e689b48",
   "metadata": {},
   "outputs": [],
   "source": [
    "stac_items = load_pickle(make_path(\"maxar_stac_items.pkl\"))"
   ]
  },
  {
   "cell_type": "markdown",
   "id": "bdc67ec3-7299-4de9-a078-699016dd3811",
   "metadata": {},
   "source": [
    "### Check with référence dataset (opengeos)"
   ]
  },
  {
   "cell_type": "code",
   "execution_count": 102,
   "id": "2109fb10-7662-450b-9660-27f3d756a424",
   "metadata": {},
   "outputs": [],
   "source": [
    "opengeo = pd.read_csv(make_path(\"opengeos_Morocco-Earthquake-Sept-2023.tsv\"), sep=\"\\t\")"
   ]
  },
  {
   "cell_type": "code",
   "execution_count": 104,
   "id": "28118baa-1502-4fad-8e86-964dd1eab859",
   "metadata": {},
   "outputs": [
    {
     "name": "stdout",
     "output_type": "stream",
     "text": [
      "(8724, 19)\n",
      "(8724, 22)\n"
     ]
    }
   ],
   "source": [
    "print(opengeo.shape)\n",
    "print(gdf.shape)"
   ]
  },
  {
   "cell_type": "code",
   "execution_count": 123,
   "id": "2dd17036-14e7-4df6-9404-75de9b4747b7",
   "metadata": {},
   "outputs": [],
   "source": [
    "assert len(set(opengeo.visual).intersection(set(gdf.href))) == opengeo.shape[0] == gdf.shape[0]"
   ]
  },
  {
   "cell_type": "markdown",
   "id": "f6fc34f8-6b46-4fd0-bf6d-c67e997fec09",
   "metadata": {},
   "source": [
    "Ok on retrouve bien les mêmes liens que opengeos"
   ]
  },
  {
   "cell_type": "markdown",
   "id": "2483bc49-8d51-4d47-8e09-3bf1aeb3b411",
   "metadata": {},
   "source": [
    "### Memory usage"
   ]
  },
  {
   "cell_type": "code",
   "execution_count": 80,
   "id": "74a55d89-32c8-4fce-ab88-16fc84a8124c",
   "metadata": {
    "tags": []
   },
   "outputs": [
    {
     "data": {
      "text/plain": [
       "10193736"
      ]
     },
     "execution_count": 80,
     "metadata": {},
     "output_type": "execute_result"
    }
   ],
   "source": [
    "gdf.memory_usage(deep=True).sum()"
   ]
  },
  {
   "cell_type": "code",
   "execution_count": 81,
   "id": "c914e24b-b425-479b-878f-f0bbeb386599",
   "metadata": {},
   "outputs": [
    {
     "data": {
      "text/plain": [
       "id                      29/031313133311/04eddade-a2dc-4d16-8710-fb764d...\n",
       "type                    image/tiff; application=geotiff; profile=cloud...\n",
       "title                                                        Visual Image\n",
       "href                    https://maxar-opendata.s3.amazonaws.com/events...\n",
       "datetime                                             2018-08-31 11:25:53Z\n",
       "platform                                                             WV04\n",
       "gsd                                                                  0.36\n",
       "catalog_id                       04eddade-a2dc-4d16-8710-fb764d318766-inv\n",
       "utm_zone                                                               29\n",
       "quadkey                                                      031313133311\n",
       "view_off_nadir                                                       24.4\n",
       "view_azimuth                                                        121.5\n",
       "view_incidence_angle                                                 63.1\n",
       "view_sun_azimuth                                                    139.1\n",
       "view_sun_elevation                                                   62.6\n",
       "proj_epsg                                                           32629\n",
       "grid_code                                           MXRA-Z29-031313133311\n",
       "proj_bbox               [494843.75, 3374843.75, 498999.32861328125, 33...\n",
       "tile_data_area                                                       21.9\n",
       "tile_clouds_area                                                      0.0\n",
       "tile_clouds_percent                                                     0\n",
       "proj_geometry           [[494843.75, 3380156.25], [494843.75, 3374843....\n",
       "geometry                POLYGON ((494843.75 3380156.25, 494843.75 3374...\n",
       "Name: 0, dtype: object"
      ]
     },
     "execution_count": 81,
     "metadata": {},
     "output_type": "execute_result"
    }
   ],
   "source": [
    "gdf.iloc[0]"
   ]
  },
  {
   "cell_type": "code",
   "execution_count": 82,
   "id": "76a464a1-2e72-4bb7-8c85-680c5f45a8e0",
   "metadata": {
    "tags": []
   },
   "outputs": [],
   "source": [
    "gdf = gdf.assign(\n",
    "    #platform=gdf.platform.astype(\"category\"),\n",
    "    gsd=gdf.gsd.astype(\"float32\"),\n",
    "    utm_zone=gdf.utm_zone.astype(\"int16\"),\n",
    "    view_off_nadir=gdf.view_off_nadir.astype(\"float32\"),\n",
    "    view_azimuth=gdf.view_azimuth.astype(\"float32\"),\n",
    "    view_sun_elevation=gdf.view_sun_elevation.astype(\"float\"),\n",
    "    proj_epsg=gdf.proj_epsg.astype(\"int16\"),\n",
    "    data_area=gdf.tile_data_area.astype(\"float16\"),\n",
    "    clouds_area=gdf.tile_clouds_area.astype(\"float16\"),\n",
    "    clouds_percent=gdf.tile_clouds_percent.astype(\"float16\"),\n",
    "    geometry_bbox = [str(x) for x in gdf.proj_bbox]\n",
    ").drop({\"proj_geometry\", \"proj_bbox\", \"tile_data_area\", \"tile_clouds_area\", \"tile_clouds_percent\"}, axis=1)"
   ]
  },
  {
   "cell_type": "code",
   "execution_count": 83,
   "id": "66e28e31-65ea-4557-a545-0daf657d5320",
   "metadata": {},
   "outputs": [
    {
     "data": {
      "text/plain": [
       "<Projected CRS: EPSG:32629>\n",
       "Name: WGS 84 / UTM zone 29N\n",
       "Axis Info [cartesian]:\n",
       "- E[east]: Easting (metre)\n",
       "- N[north]: Northing (metre)\n",
       "Area of Use:\n",
       "- name: Between 12°W and 6°W, northern hemisphere between equator and 84°N, onshore and offshore. Algeria. Côte D'Ivoire (Ivory Coast). Faroe Islands. Guinea. Ireland. Jan Mayen. Mali. Mauritania. Morocco. Portugal. Sierra Leone. Spain. United Kingdom (UK). Western Sahara.\n",
       "- bounds: (-12.0, 0.0, -6.0, 84.0)\n",
       "Coordinate Operation:\n",
       "- name: UTM zone 29N\n",
       "- method: Transverse Mercator\n",
       "Datum: World Geodetic System 1984 ensemble\n",
       "- Ellipsoid: WGS 84\n",
       "- Prime Meridian: Greenwich"
      ]
     },
     "execution_count": 83,
     "metadata": {},
     "output_type": "execute_result"
    }
   ],
   "source": [
    "gdf.crs"
   ]
  },
  {
   "cell_type": "code",
   "execution_count": 84,
   "id": "dc3c3010-236c-4810-9866-5947952fbc89",
   "metadata": {},
   "outputs": [
    {
     "data": {
      "text/plain": [
       "Index(['id', 'type', 'title', 'href', 'datetime', 'platform', 'gsd',\n",
       "       'catalog_id', 'utm_zone', 'quadkey', 'view_off_nadir', 'view_azimuth',\n",
       "       'view_incidence_angle', 'view_sun_azimuth', 'view_sun_elevation',\n",
       "       'proj_epsg', 'grid_code', 'geometry', 'data_area', 'clouds_area',\n",
       "       'clouds_percent', 'geometry_bbox'],\n",
       "      dtype='object')"
      ]
     },
     "execution_count": 84,
     "metadata": {},
     "output_type": "execute_result"
    }
   ],
   "source": [
    "gdf.columns"
   ]
  },
  {
   "cell_type": "markdown",
   "id": "3132e5af-0822-42d3-9439-b5ab135bb2b9",
   "metadata": {},
   "source": [
    "### Save"
   ]
  },
  {
   "cell_type": "markdown",
   "id": "d5813f99-c541-4230-9569-d591816a0812",
   "metadata": {},
   "source": [
    "Fiona limit 10 lenght characters for columns"
   ]
  },
  {
   "cell_type": "code",
   "execution_count": 85,
   "id": "03c19c33-eaad-470b-9ef0-50068a21da59",
   "metadata": {},
   "outputs": [],
   "source": [
    "mapping_columns = {n[:10]:n for n in gdf.columns}"
   ]
  },
  {
   "cell_type": "code",
   "execution_count": 86,
   "id": "b4c9c07b-bc2a-4513-8981-8c28a6c06001",
   "metadata": {},
   "outputs": [],
   "source": [
    "save_pickle(mapping_columns, make_path(\"mapping_columns_stac_collection.pkl\"))"
   ]
  },
  {
   "cell_type": "code",
   "execution_count": 87,
   "id": "d7faa7fe-d44a-4c7e-aa44-729617a693ab",
   "metadata": {},
   "outputs": [
    {
     "name": "stderr",
     "output_type": "stream",
     "text": [
      "WARNING:fiona._env:Normalized/laundered field name: 'view_off_nadir' to 'view_off_n'\n",
      "WARNING:fiona._env:Normalized/laundered field name: 'view_azimuth' to 'view_azimu'\n",
      "WARNING:fiona._env:Normalized/laundered field name: 'view_incidence_angle' to 'view_incid'\n",
      "WARNING:fiona._env:Normalized/laundered field name: 'view_sun_azimuth' to 'view_sun_a'\n",
      "WARNING:fiona._env:Normalized/laundered field name: 'view_sun_elevation' to 'view_sun_e'\n",
      "WARNING:fiona._env:Normalized/laundered field name: 'clouds_area' to 'clouds_are'\n",
      "WARNING:fiona._env:Normalized/laundered field name: 'clouds_percent' to 'clouds_per'\n",
      "WARNING:fiona._env:Normalized/laundered field name: 'geometry_bbox' to 'geometry_b'\n"
     ]
    }
   ],
   "source": [
    "gdf.to_file(make_path(\"maxar_stac_items.shp\"))"
   ]
  },
  {
   "cell_type": "markdown",
   "id": "5ca7dda9-2a25-458f-8baa-67788d82f9e9",
   "metadata": {},
   "source": [
    "## Downloader Cogs"
   ]
  },
  {
   "cell_type": "code",
   "execution_count": 118,
   "id": "afc83ca1-2207-4ebd-b26c-3a514a43b8f2",
   "metadata": {},
   "outputs": [],
   "source": [
    "# to do\n",
    "\"\"\"\n",
    "- based on href list\n",
    "- or on bbox selection + date range\n",
    "- check how to use COGs efficiency\n",
    "\"\"\"\n",
    "class DownloaderCogs:\n",
    "    def __init__(self):\n",
    "        pass"
   ]
  },
  {
   "cell_type": "markdown",
   "id": "028183b6-8154-4144-b1d4-d25ddc01c485",
   "metadata": {},
   "source": [
    "### Remarques"
   ]
  },
  {
   "cell_type": "markdown",
   "id": "a14b0ef9-03b5-4de0-bd6e-8e8a79724bab",
   "metadata": {},
   "source": [
    "* add validation data with pydantic with MaxarOpenData\n",
    "* nombre de threads apparement à définir par rapport aux nombres de cpu+4. Mais plus rapide en définissant une grande Pool de thread (100)"
   ]
  },
  {
   "cell_type": "code",
   "execution_count": 115,
   "id": "3a10db1f-71c4-4b04-928d-a86857682c9b",
   "metadata": {},
   "outputs": [
    {
     "data": {
      "text/plain": [
       "'https://maxar-opendata.s3.amazonaws.com/events/Morocco-Earthquake-Sept-2023/ard/29/120200233302/2010-08-26/1030010006CA6400-visual.tif'"
      ]
     },
     "execution_count": 115,
     "metadata": {},
     "output_type": "execute_result"
    }
   ],
   "source": [
    "gdf.iloc[3].href"
   ]
  },
  {
   "cell_type": "code",
   "execution_count": 116,
   "id": "794e1ba7-d98c-413a-82d6-37a8790c048b",
   "metadata": {},
   "outputs": [
    {
     "data": {
      "text/plain": [
       "'https://maxar-opendata.s3.amazonaws.com/events/Morocco-Earthquake-Sept-2023/ard/29/031313133301/2018-08-31/04eddade-a2dc-4d16-8710-fb764d318766-inv-visual.tif'"
      ]
     },
     "execution_count": 116,
     "metadata": {},
     "output_type": "execute_result"
    }
   ],
   "source": [
    "gdf.iloc[2].href"
   ]
  },
  {
   "cell_type": "markdown",
   "id": "841cf323-cb41-42bd-9deb-2072515517a3",
   "metadata": {},
   "source": [
    "Attention l'id ne semble pas etre tres pertinent (non present dans opengeo)"
   ]
  },
  {
   "cell_type": "markdown",
   "id": "339fd624-3ebb-479e-a439-8a22d57f02e1",
   "metadata": {},
   "source": [
    "### Références"
   ]
  },
  {
   "cell_type": "markdown",
   "id": "8b501a54-2696-46a8-b6d7-103035ac895f",
   "metadata": {},
   "source": [
    "* leafmap source code : https://github.com/opengeos/leafmap/blob/master/leafmap/stac.py\n",
    "* eodag source code : https://github.com/CS-SI/eodag"
   ]
  },
  {
   "cell_type": "code",
   "execution_count": null,
   "id": "c2bcd08b-c15a-45c8-a59c-c6bcbdf38dba",
   "metadata": {},
   "outputs": [],
   "source": []
  }
 ],
 "metadata": {
  "kernelspec": {
   "display_name": "Python 3 (ipykernel)",
   "language": "python",
   "name": "python3"
  },
  "language_info": {
   "codemirror_mode": {
    "name": "ipython",
    "version": 3
   },
   "file_extension": ".py",
   "mimetype": "text/x-python",
   "name": "python",
   "nbconvert_exporter": "python",
   "pygments_lexer": "ipython3",
   "version": "3.10.13"
  }
 },
 "nbformat": 4,
 "nbformat_minor": 5
}
